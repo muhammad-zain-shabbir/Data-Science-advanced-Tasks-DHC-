{
 "cells": [
  {
   "cell_type": "markdown",
   "id": "1a63cd52",
   "metadata": {},
   "source": [
    "# 📊 Task 5: Interactive Business Dashboard with Streamlit\n",
    "This notebook explains how the Streamlit app works for analyzing the Global Superstore dataset."
   ]
  },
  {
   "cell_type": "code",
   "execution_count": null,
   "id": "acb7d59f",
   "metadata": {},
   "outputs": [],
   "source": [
    "import pandas as pd\n",
    "import plotly.express as px\n",
    "import streamlit as st"
   ]
  },
  {
   "cell_type": "markdown",
   "id": "e9529eee",
   "metadata": {},
   "source": [
    "## 📥 Load Dataset"
   ]
  },
  {
   "cell_type": "code",
   "execution_count": null,
   "id": "06f9fff4",
   "metadata": {},
   "outputs": [],
   "source": [
    "df = pd.read_csv(\"global_superstore.csv\", encoding='ISO-8859-1')\n",
    "df['Order Date'] = pd.to_datetime(df['Order Date'], errors='coerce')\n",
    "df.dropna(subset=['Order Date', 'Sales', 'Profit', 'Customer Name'], inplace=True)\n",
    "df['Sales'] = df['Sales'].astype(float)\n",
    "df.head()"
   ]
  },
  {
   "cell_type": "markdown",
   "id": "129eb9c7",
   "metadata": {},
   "source": [
    "## 🎛️ Sidebar Filters (In App)\n",
    "In the Streamlit app, users can filter by Region and Category. This part is handled by the `st.sidebar.multiselect()`."
   ]
  },
  {
   "cell_type": "markdown",
   "id": "a008c779",
   "metadata": {},
   "source": [
    "## 📊 Calculate KPIs"
   ]
  },
  {
   "cell_type": "code",
   "execution_count": null,
   "id": "73f53aa3",
   "metadata": {},
   "outputs": [],
   "source": [
    "regions = df['Region'].unique()\n",
    "categories = df['Category'].unique()\n",
    "filtered_df = df[(df['Region'].isin(regions)) & (df['Category'].isin(categories))]\n",
    "\n",
    "total_sales = filtered_df['Sales'].sum()\n",
    "total_profit = filtered_df['Profit'].sum()\n",
    "total_orders = len(filtered_df)\n",
    "\n",
    "total_sales, total_profit, total_orders"
   ]
  },
  {
   "cell_type": "markdown",
   "id": "61f5b80b",
   "metadata": {},
   "source": [
    "## 📈 Visualizations"
   ]
  },
  {
   "cell_type": "code",
   "execution_count": null,
   "id": "27c47a56",
   "metadata": {},
   "outputs": [],
   "source": [
    "fig1 = px.bar(filtered_df.groupby(\"Sub-Category\")[\"Sales\"].sum().sort_values().reset_index(),\n",
    "               x=\"Sales\", y=\"Sub-Category\", orientation=\"h\",\n",
    "               title=\"Sales by Sub-Category\")\n",
    "fig1.show()"
   ]
  },
  {
   "cell_type": "code",
   "execution_count": null,
   "id": "78a3bba7",
   "metadata": {},
   "outputs": [],
   "source": [
    "fig2 = px.line(filtered_df.groupby(\"Order Date\")[\"Sales\"].sum().reset_index(),\n",
    "                x=\"Order Date\", y=\"Sales\", title=\"Sales Trend Over Time\")\n",
    "fig2.show()"
   ]
  },
  {
   "cell_type": "code",
   "execution_count": null,
   "id": "ad4ba94a",
   "metadata": {},
   "outputs": [],
   "source": [
    "fig3 = px.pie(filtered_df, names='Region', values='Profit', title='Profit Distribution by Region')\n",
    "fig3.show()"
   ]
  },
  {
   "cell_type": "code",
   "execution_count": null,
   "id": "795cf729",
   "metadata": {},
   "outputs": [],
   "source": [
    "top_customers = filtered_df.groupby(\"Customer Name\")[\"Sales\"].sum().sort_values(ascending=False).head(5).reset_index()\n",
    "fig4 = px.bar(top_customers, x=\"Customer Name\", y=\"Sales\", title=\"Top 5 Customers by Sales\")\n",
    "fig4.show()"
   ]
  }
 ],
 "metadata": {},
 "nbformat": 4,
 "nbformat_minor": 5
}
