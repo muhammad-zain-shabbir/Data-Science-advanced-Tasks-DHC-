{
 "cells": [
  {
   "cell_type": "markdown",
   "id": "4d1f0b70",
   "metadata": {},
   "source": [
    "\n",
    "# 🏦 Task 4: Loan Default Risk with Business Cost Optimization\n",
    "\n",
    "This project involves predicting the likelihood of a loan default and optimizing decision thresholds based on cost-benefit analysis.\n",
    "We will use binary classification models, evaluate model performance, and integrate business impact into our evaluation.\n"
   ]
  },
  {
   "cell_type": "markdown",
   "id": "d246ab47",
   "metadata": {},
   "source": [
    "\n",
    "## 📂 Step 1: Load and Inspect the Dataset\n",
    "\n",
    "We load the Home Credit Default Risk dataset, inspect its structure, and prepare it for modeling.\n"
   ]
  },
  {
   "cell_type": "code",
   "execution_count": 13,
   "id": "b29a8872",
   "metadata": {},
   "outputs": [
    {
     "name": "stdout",
     "output_type": "stream",
     "text": [
      "Requirement already satisfied: catboost in d:\\anaconda_jup_python\\lib\\site-packages (1.2.8)\n",
      "Requirement already satisfied: graphviz in d:\\anaconda_jup_python\\lib\\site-packages (from catboost) (0.21)\n",
      "Requirement already satisfied: matplotlib in d:\\anaconda_jup_python\\lib\\site-packages (from catboost) (3.9.2)\n",
      "Requirement already satisfied: numpy<3.0,>=1.16.0 in d:\\anaconda_jup_python\\lib\\site-packages (from catboost) (1.26.4)\n",
      "Requirement already satisfied: pandas>=0.24 in d:\\anaconda_jup_python\\lib\\site-packages (from catboost) (2.2.2)\n",
      "Requirement already satisfied: scipy in d:\\anaconda_jup_python\\lib\\site-packages (from catboost) (1.13.1)\n",
      "Requirement already satisfied: plotly in d:\\anaconda_jup_python\\lib\\site-packages (from catboost) (5.24.1)\n",
      "Requirement already satisfied: six in d:\\anaconda_jup_python\\lib\\site-packages (from catboost) (1.16.0)\n",
      "Requirement already satisfied: python-dateutil>=2.8.2 in d:\\anaconda_jup_python\\lib\\site-packages (from pandas>=0.24->catboost) (2.9.0.post0)\n",
      "Requirement already satisfied: pytz>=2020.1 in d:\\anaconda_jup_python\\lib\\site-packages (from pandas>=0.24->catboost) (2024.1)\n",
      "Requirement already satisfied: tzdata>=2022.7 in d:\\anaconda_jup_python\\lib\\site-packages (from pandas>=0.24->catboost) (2023.3)\n",
      "Requirement already satisfied: contourpy>=1.0.1 in d:\\anaconda_jup_python\\lib\\site-packages (from matplotlib->catboost) (1.2.0)\n",
      "Requirement already satisfied: cycler>=0.10 in d:\\anaconda_jup_python\\lib\\site-packages (from matplotlib->catboost) (0.11.0)\n",
      "Requirement already satisfied: fonttools>=4.22.0 in d:\\anaconda_jup_python\\lib\\site-packages (from matplotlib->catboost) (4.51.0)\n",
      "Requirement already satisfied: kiwisolver>=1.3.1 in d:\\anaconda_jup_python\\lib\\site-packages (from matplotlib->catboost) (1.4.4)\n",
      "Requirement already satisfied: packaging>=20.0 in d:\\anaconda_jup_python\\lib\\site-packages (from matplotlib->catboost) (24.1)\n",
      "Requirement already satisfied: pillow>=8 in d:\\anaconda_jup_python\\lib\\site-packages (from matplotlib->catboost) (10.4.0)\n",
      "Requirement already satisfied: pyparsing>=2.3.1 in d:\\anaconda_jup_python\\lib\\site-packages (from matplotlib->catboost) (3.1.2)\n",
      "Requirement already satisfied: tenacity>=6.2.0 in d:\\anaconda_jup_python\\lib\\site-packages (from plotly->catboost) (8.2.3)\n"
     ]
    },
    {
     "data": {
      "text/plain": [
       "((307511, 122),\n",
       " Index(['SK_ID_CURR', 'TARGET', 'NAME_CONTRACT_TYPE', 'CODE_GENDER',\n",
       "        'FLAG_OWN_CAR', 'FLAG_OWN_REALTY', 'CNT_CHILDREN', 'AMT_INCOME_TOTAL',\n",
       "        'AMT_CREDIT', 'AMT_ANNUITY'],\n",
       "       dtype='object'))"
      ]
     },
     "execution_count": 13,
     "metadata": {},
     "output_type": "execute_result"
    }
   ],
   "source": [
    "\n",
    "import pandas as pd\n",
    "!pip install catboost\n",
    "\n",
    "# Load dataset\n",
    "df = pd.read_csv(\"application_train.csv\")\n",
    "df.shape, df.columns[:10]\n"
   ]
  },
  {
   "cell_type": "markdown",
   "id": "b70b31a6",
   "metadata": {},
   "source": [
    "\n",
    "## 🧹 Step 2: Data Cleaning and Preprocessing\n",
    "\n",
    "We handle missing values and reduce the dataset to key numerical and categorical features for modeling.\n"
   ]
  },
  {
   "cell_type": "code",
   "execution_count": 14,
   "id": "90a9a0f2",
   "metadata": {},
   "outputs": [
    {
     "data": {
      "text/plain": [
       "(167732, 73)"
      ]
     },
     "execution_count": 14,
     "metadata": {},
     "output_type": "execute_result"
    }
   ],
   "source": [
    "\n",
    "# Drop columns with more than 40% missing values\n",
    "missing = df.isnull().mean()\n",
    "df_clean = df.drop(columns=missing[missing > 0.4].index)\n",
    "\n",
    "# Drop rows with any remaining missing values\n",
    "df_clean.dropna(inplace=True)\n",
    "df_clean.shape\n"
   ]
  },
  {
   "cell_type": "markdown",
   "id": "4c410415",
   "metadata": {},
   "source": [
    "\n",
    "## 🧠 Step 3: Feature Encoding\n",
    "\n",
    "We apply label encoding to categorical features to prepare them for modeling.\n"
   ]
  },
  {
   "cell_type": "code",
   "execution_count": 15,
   "id": "e77271bf",
   "metadata": {},
   "outputs": [
    {
     "data": {
      "text/plain": [
       "SK_ID_CURR            int64\n",
       "TARGET                int64\n",
       "NAME_CONTRACT_TYPE    int32\n",
       "CODE_GENDER           int32\n",
       "FLAG_OWN_CAR          int32\n",
       "dtype: object"
      ]
     },
     "execution_count": 15,
     "metadata": {},
     "output_type": "execute_result"
    }
   ],
   "source": [
    "\n",
    "from sklearn.preprocessing import LabelEncoder\n",
    "\n",
    "categorical = df_clean.select_dtypes(include='object').columns\n",
    "le = LabelEncoder()\n",
    "for col in categorical:\n",
    "    df_clean[col] = le.fit_transform(df_clean[col])\n",
    "df_clean.dtypes.head()\n"
   ]
  },
  {
   "cell_type": "markdown",
   "id": "88a203a2",
   "metadata": {},
   "source": [
    "\n",
    "## 🤖 Step 4: Train Binary Classification Models\n",
    "\n",
    "We train two models: Logistic Regression and CatBoostClassifier.\n"
   ]
  },
  {
   "cell_type": "code",
   "execution_count": 16,
   "id": "be4a6c89",
   "metadata": {},
   "outputs": [
    {
     "name": "stderr",
     "output_type": "stream",
     "text": [
      "D:\\Anaconda_Jup_Python\\Lib\\site-packages\\sklearn\\linear_model\\_logistic.py:469: ConvergenceWarning: lbfgs failed to converge (status=1):\n",
      "STOP: TOTAL NO. of ITERATIONS REACHED LIMIT.\n",
      "\n",
      "Increase the number of iterations (max_iter) or scale the data as shown in:\n",
      "    https://scikit-learn.org/stable/modules/preprocessing.html\n",
      "Please also refer to the documentation for alternative solver options:\n",
      "    https://scikit-learn.org/stable/modules/linear_model.html#logistic-regression\n",
      "  n_iter_i = _check_optimize_result(\n"
     ]
    },
    {
     "data": {
      "text/plain": [
       "(0.9136137359525441, 0.9136733538021283)"
      ]
     },
     "execution_count": 16,
     "metadata": {},
     "output_type": "execute_result"
    }
   ],
   "source": [
    "\n",
    "from sklearn.model_selection import train_test_split\n",
    "from sklearn.linear_model import LogisticRegression\n",
    "from sklearn.metrics import confusion_matrix, accuracy_score\n",
    "from catboost import CatBoostClassifier\n",
    "\n",
    "# Select features and target\n",
    "X = df_clean.drop(columns=['TARGET'])\n",
    "y = df_clean['TARGET']\n",
    "\n",
    "X_train, X_test, y_train, y_test = train_test_split(X, y, test_size=0.2, random_state=42)\n",
    "\n",
    "# Logistic Regression\n",
    "lr = LogisticRegression(max_iter=500)\n",
    "lr.fit(X_train, y_train)\n",
    "y_pred_lr = lr.predict(X_test)\n",
    "acc_lr = accuracy_score(y_test, y_pred_lr)\n",
    "\n",
    "# CatBoost\n",
    "cat = CatBoostClassifier(verbose=0)\n",
    "cat.fit(X_train, y_train)\n",
    "y_pred_cat = cat.predict(X_test)\n",
    "acc_cat = accuracy_score(y_test, y_pred_cat)\n",
    "\n",
    "acc_lr, acc_cat\n"
   ]
  },
  {
   "cell_type": "code",
   "execution_count": 17,
   "id": "d78f8176-7479-4cbd-ae84-277c2ff8124f",
   "metadata": {},
   "outputs": [
    {
     "data": {
      "image/png": "[encoded data removed]",
      "text/plain": [
       "<Figure size 640x480 with 2 Axes>"
      ]
     },
     "metadata": {},
     "output_type": "display_data"
    }
   ],
   "source": [
    "import seaborn as sns\n",
    "import matplotlib.pyplot as plt\n",
    "from sklearn.metrics import ConfusionMatrixDisplay\n",
    "\n",
    "# Confusion matrix\n",
    "cm = confusion_matrix(y_test, y_pred_cat)\n",
    "sns.heatmap(cm, annot=True, fmt='d', cmap='Blues')\n",
    "plt.title(\"CatBoost Confusion Matrix\")\n",
    "plt.xlabel(\"Predicted\")\n",
    "plt.ylabel(\"Actual\")\n",
    "plt.show()\n"
   ]
  },
  {
   "cell_type": "code",
   "execution_count": 18,
   "id": "248a5e3d-8c17-45a5-83b2-f82827b37eb0",
   "metadata": {},
   "outputs": [
    {
     "name": "stderr",
     "output_type": "stream",
     "text": [
      "C:\\Users\\zains\\AppData\\Local\\Temp\\ipykernel_15080\\827868406.py:5: FutureWarning: \n",
      "\n",
      "Passing `palette` without assigning `hue` is deprecated and will be removed in v0.14.0. Assign the `x` variable to `hue` and set `legend=False` for the same effect.\n",
      "\n",
      "  sns.barplot(x=models, y=accuracies, palette='Set2')\n"
     ]
    },
    {
     "data": {
      "image/png": "[encoded data removed]",
      "text/plain": [
       "<Figure size 600x400 with 1 Axes>"
      ]
     },
     "metadata": {},
     "output_type": "display_data"
    }
   ],
   "source": [
    "models = ['Logistic Regression', 'CatBoost']\n",
    "accuracies = [acc_lr, acc_cat]\n",
    "\n",
    "plt.figure(figsize=(6,4))\n",
    "sns.barplot(x=models, y=accuracies, palette='Set2')\n",
    "plt.ylim(0.85, 1.0)\n",
    "plt.title(\"Model Accuracy Comparison\")\n",
    "plt.ylabel(\"Accuracy Score\")\n",
    "plt.show()\n"
   ]
  },
  {
   "cell_type": "code",
   "execution_count": 19,
   "id": "e7871716-b316-4c60-8836-5abbb50f290e",
   "metadata": {},
   "outputs": [
    {
     "name": "stdout",
     "output_type": "stream",
     "text": [
      "📄 Logistic Regression Report:\n",
      "              precision    recall  f1-score   support\n",
      "\n",
      "           0       0.91      1.00      0.95     30649\n",
      "           1       0.00      0.00      0.00      2898\n",
      "\n",
      "    accuracy                           0.91     33547\n",
      "   macro avg       0.46      0.50      0.48     33547\n",
      "weighted avg       0.83      0.91      0.87     33547\n",
      "\n",
      "\n",
      "📄 CatBoost Classifier Report:\n",
      "              precision    recall  f1-score   support\n",
      "\n",
      "           0       0.92      1.00      0.95     30649\n",
      "           1       0.51      0.03      0.06      2898\n",
      "\n",
      "    accuracy                           0.91     33547\n",
      "   macro avg       0.71      0.51      0.51     33547\n",
      "weighted avg       0.88      0.91      0.88     33547\n",
      "\n"
     ]
    },
    {
     "name": "stderr",
     "output_type": "stream",
     "text": [
      "D:\\Anaconda_Jup_Python\\Lib\\site-packages\\sklearn\\metrics\\_classification.py:1531: UndefinedMetricWarning: Precision is ill-defined and being set to 0.0 in labels with no predicted samples. Use `zero_division` parameter to control this behavior.\n",
      "  _warn_prf(average, modifier, f\"{metric.capitalize()} is\", len(result))\n",
      "D:\\Anaconda_Jup_Python\\Lib\\site-packages\\sklearn\\metrics\\_classification.py:1531: UndefinedMetricWarning: Precision is ill-defined and being set to 0.0 in labels with no predicted samples. Use `zero_division` parameter to control this behavior.\n",
      "  _warn_prf(average, modifier, f\"{metric.capitalize()} is\", len(result))\n",
      "D:\\Anaconda_Jup_Python\\Lib\\site-packages\\sklearn\\metrics\\_classification.py:1531: UndefinedMetricWarning: Precision is ill-defined and being set to 0.0 in labels with no predicted samples. Use `zero_division` parameter to control this behavior.\n",
      "  _warn_prf(average, modifier, f\"{metric.capitalize()} is\", len(result))\n"
     ]
    }
   ],
   "source": [
    "from sklearn.metrics import classification_report\n",
    "\n",
    "print(\"📄 Logistic Regression Report:\")\n",
    "print(classification_report(y_test, y_pred_lr))\n",
    "\n",
    "print(\"\\n📄 CatBoost Classifier Report:\")\n",
    "print(classification_report(y_test, y_pred_cat))\n"
   ]
  },
  {
   "cell_type": "markdown",
   "id": "a79c7b46",
   "metadata": {},
   "source": [
    "\n",
    "## 💰 Step 5: Cost-Benefit Optimization\n",
    "\n",
    "We define costs for false positives and false negatives, then adjust the classification threshold.\n"
   ]
  },
  {
   "cell_type": "code",
   "execution_count": 20,
   "id": "df20ef60",
   "metadata": {},
   "outputs": [
    {
     "data": {
      "text/plain": [
       "(0.7999999999999996, 2896000)"
      ]
     },
     "execution_count": 20,
     "metadata": {},
     "output_type": "execute_result"
    }
   ],
   "source": [
    "\n",
    "import numpy as np\n",
    "\n",
    "# Define costs\n",
    "cost_fp = 5000  # approving a defaulting loan\n",
    "cost_fn = 1000  # rejecting a good loan\n",
    "\n",
    "# Predict probabilities using CatBoost\n",
    "probs = cat.predict_proba(X_test)[:, 1]\n",
    "thresholds = np.arange(0.1, 0.9, 0.01)\n",
    "costs = []\n",
    "\n",
    "for t in thresholds:\n",
    "    preds = (probs >= t).astype(int)\n",
    "    cm = confusion_matrix(y_test, preds)\n",
    "    tn, fp, fn, tp = cm.ravel()\n",
    "    total_cost = (fp * cost_fp) + (fn * cost_fn)\n",
    "    costs.append(total_cost)\n",
    "\n",
    "# Find threshold with minimum cost\n",
    "optimal_idx = np.argmin(costs)\n",
    "optimal_threshold = thresholds[optimal_idx]\n",
    "min_cost = costs[optimal_idx]\n",
    "optimal_threshold, min_cost\n"
   ]
  },
  {
   "cell_type": "markdown",
   "id": "19f4cd3b",
   "metadata": {},
   "source": [
    "\n",
    "## ✅ Conclusion\n",
    "\n",
    "- Logistic Regression Accuracy: Printed above\n",
    "- CatBoost Accuracy: Printed above\n",
    "- Optimal threshold based on business cost: Displayed above\n",
    "- Total minimum cost at that threshold: Displayed above\n",
    "\n",
    "This task demonstrates how to integrate business objectives (like cost minimization) into a machine learning workflow.\n"
   ]
  },
  {
   "cell_type": "code",
   "execution_count": null,
   "id": "993c0e73-8d5b-483f-8e11-6e88ab710e48",
   "metadata": {},
   "outputs": [],
   "source": []
  },
  {
   "cell_type": "code",
   "execution_count": null,
   "id": "2ab1a86b-7765-4b3e-b22d-38aeef5bacbf",
   "metadata": {},
   "outputs": [],
   "source": []
  }
 ],
 "metadata": {
  "kernelspec": {
   "display_name": "Python 3 (ipykernel)",
   "language": "python",
   "name": "python3"
  },
  "language_info": {
   "codemirror_mode": {
    "name": "ipython",
    "version": 3
   },
   "file_extension": ".py",
   "mimetype": "text/x-python",
   "name": "python",
   "nbconvert_exporter": "python",
   "pygments_lexer": "ipython3",
   "version": "3.12.7"
  }
 },
 "nbformat": 4,
 "nbformat_minor": 5
}
